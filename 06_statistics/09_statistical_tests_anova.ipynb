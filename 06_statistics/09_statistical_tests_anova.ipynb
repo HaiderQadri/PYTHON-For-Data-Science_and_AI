{
 "cells": [
  {
   "cell_type": "markdown",
   "metadata": {},
   "source": [
    "# ANOVA\n",
    "ANOVA is a statistical test that stands for analysis of variance.\n",
    "\n",
    "The idea behind ANOVA is to compare different groups of samples to determine whether there is a significant difference between the groups.\n",
    "\n",
    "ANOVA is an extension of the t and the z test and was developed to compare more than two groups.\n",
    "\n",
    "The null hypothesis of ANOVA is that there is no difference between the groups. The alternative hypothesis is that there is a difference between the groups.\n",
    "\n",
    "ANOVA is an omnibus test, meaning it tests the data as a whole. In other words, it does not tell you which specific groups were significantly different from each other; it only tells you that at least two groups were different.\n",
    "\n",
    "## Types of ANOVA\n",
    "There are three main types of ANOVA:\n",
    "\n",
    "1. One-way ANOVA\n",
    "2. Two-way ANOVA\n",
    "3. N-way ANOVA\n",
    "\n",
    "**One-way ANOVA**\n",
    "\n",
    "One-way ANOVA is used to compare two or more groups of samples across one continuous independent variable.\n",
    "\n",
    "For example, you could use a one-way ANOVA to compare the height of people living in different cities.\n",
    "\n",
    "**Two-way ANOVA**\n",
    "\n",
    "Two-way ANOVA is used to compare two or more groups of samples across two independent variables.\n",
    "\n",
    "For example, you could use a two-way ANOVA to compare the height of people living in different cities and different countries.\n",
    "\n",
    "**N-way ANOVA**\n",
    "\n",
    "N-way ANOVA is used to compare two or more groups of samples across N independent variables.\n",
    "\n",
    "## Assumptions of ANOVA\n",
    "\n",
    "ANOVA has three main assumptions:\n",
    "\n",
    "1. The samples are independent.\n",
    "2. The samples are normally distributed.\n",
    "3. The variance of each group is equal.\n",
    "\n",
    "If these assumptions are not met, you may not be able to trust the results of your ANOVA."
   ]
  },
  {
   "cell_type": "code",
   "execution_count": 31,
   "metadata": {},
   "outputs": [],
   "source": [
    "# import the liberaries\n",
    "import pandas as pd\n",
    "import numpy as np\n",
    "import matplotlib.pyplot as plt\n",
    "import seaborn as sns\n",
    "from scipy import stats\n",
    "import warnings\n",
    "warnings.filterwarnings('ignore')"
   ]
  },
  {
   "cell_type": "markdown",
   "metadata": {},
   "source": [
    "## 1. ONE-WAY ANOVA"
   ]
  },
  {
   "cell_type": "code",
   "execution_count": 32,
   "metadata": {},
   "outputs": [
    {
     "name": "stdout",
     "output_type": "stream",
     "text": [
      "F-statistic: 15.662162162162158\n",
      "p-value: 0.0004515404760997282\n",
      "Reject null hypothesis: The means are not equal, as the p-value: {p_val} is less than 0.05\n"
     ]
    }
   ],
   "source": [
    "# Sample data: Growth of plants with three types of fertilizers\n",
    "fertilizer1 = [20, 22, 19, 24, 25]\n",
    "fertilizer2 = [28, 30, 27, 26, 29]\n",
    "fertilizer3 = [18, 20, 22, 19, 24]\n",
    "\n",
    "# Perform the one-way ANOVA\n",
    "f_stat, p_val = stats.f_oneway(fertilizer1, fertilizer2, fertilizer3)\n",
    "\n",
    "print(\"F-statistic:\", f_stat)\n",
    "print(\"p-value:\", p_val)\n",
    "\n",
    "# print the results based on if the p-value is less than 0.05\n",
    "\n",
    "if p_val < 0.05:\n",
    "    print(\"Reject null hypothesis: The means are not equal, as the p-value: {p_val} is less than 0.05\")\n",
    "else:\n",
    "    print(\"Failed to reject null hypothesis: The means are equal, as the p-value: {p_val} is greater than 0.05\")"
   ]
  },
  {
   "cell_type": "markdown",
   "metadata": {},
   "source": [
    "## ONE-WAY ANOVA Using Statsmodels"
   ]
  },
  {
   "cell_type": "code",
   "execution_count": 33,
   "metadata": {},
   "outputs": [],
   "source": [
    "# !pip install statsmodels"
   ]
  },
  {
   "cell_type": "code",
   "execution_count": 34,
   "metadata": {},
   "outputs": [],
   "source": [
    "import pandas as pd\n",
    "import statsmodels.api as sm\n",
    "from statsmodels.formula.api import ols"
   ]
  },
  {
   "cell_type": "code",
   "execution_count": 35,
   "metadata": {},
   "outputs": [
    {
     "data": {
      "text/html": [
       "<div>\n",
       "<style scoped>\n",
       "    .dataframe tbody tr th:only-of-type {\n",
       "        vertical-align: middle;\n",
       "    }\n",
       "\n",
       "    .dataframe tbody tr th {\n",
       "        vertical-align: top;\n",
       "    }\n",
       "\n",
       "    .dataframe thead th {\n",
       "        text-align: right;\n",
       "    }\n",
       "</style>\n",
       "<table border=\"1\" class=\"dataframe\">\n",
       "  <thead>\n",
       "    <tr style=\"text-align: right;\">\n",
       "      <th></th>\n",
       "      <th>fertilizer</th>\n",
       "      <th>growth</th>\n",
       "    </tr>\n",
       "  </thead>\n",
       "  <tbody>\n",
       "    <tr>\n",
       "      <th>0</th>\n",
       "      <td>fertilizer1</td>\n",
       "      <td>20</td>\n",
       "    </tr>\n",
       "    <tr>\n",
       "      <th>1</th>\n",
       "      <td>fertilizer1</td>\n",
       "      <td>22</td>\n",
       "    </tr>\n",
       "    <tr>\n",
       "      <th>2</th>\n",
       "      <td>fertilizer1</td>\n",
       "      <td>19</td>\n",
       "    </tr>\n",
       "    <tr>\n",
       "      <th>3</th>\n",
       "      <td>fertilizer1</td>\n",
       "      <td>24</td>\n",
       "    </tr>\n",
       "    <tr>\n",
       "      <th>4</th>\n",
       "      <td>fertilizer1</td>\n",
       "      <td>25</td>\n",
       "    </tr>\n",
       "    <tr>\n",
       "      <th>5</th>\n",
       "      <td>fertilizer2</td>\n",
       "      <td>28</td>\n",
       "    </tr>\n",
       "    <tr>\n",
       "      <th>6</th>\n",
       "      <td>fertilizer2</td>\n",
       "      <td>30</td>\n",
       "    </tr>\n",
       "    <tr>\n",
       "      <th>7</th>\n",
       "      <td>fertilizer2</td>\n",
       "      <td>27</td>\n",
       "    </tr>\n",
       "    <tr>\n",
       "      <th>8</th>\n",
       "      <td>fertilizer2</td>\n",
       "      <td>26</td>\n",
       "    </tr>\n",
       "    <tr>\n",
       "      <th>9</th>\n",
       "      <td>fertilizer2</td>\n",
       "      <td>29</td>\n",
       "    </tr>\n",
       "    <tr>\n",
       "      <th>10</th>\n",
       "      <td>fertilizer3</td>\n",
       "      <td>18</td>\n",
       "    </tr>\n",
       "    <tr>\n",
       "      <th>11</th>\n",
       "      <td>fertilizer3</td>\n",
       "      <td>20</td>\n",
       "    </tr>\n",
       "    <tr>\n",
       "      <th>12</th>\n",
       "      <td>fertilizer3</td>\n",
       "      <td>22</td>\n",
       "    </tr>\n",
       "    <tr>\n",
       "      <th>13</th>\n",
       "      <td>fertilizer3</td>\n",
       "      <td>19</td>\n",
       "    </tr>\n",
       "    <tr>\n",
       "      <th>14</th>\n",
       "      <td>fertilizer3</td>\n",
       "      <td>24</td>\n",
       "    </tr>\n",
       "  </tbody>\n",
       "</table>\n",
       "</div>"
      ],
      "text/plain": [
       "     fertilizer  growth\n",
       "0   fertilizer1      20\n",
       "1   fertilizer1      22\n",
       "2   fertilizer1      19\n",
       "3   fertilizer1      24\n",
       "4   fertilizer1      25\n",
       "5   fertilizer2      28\n",
       "6   fertilizer2      30\n",
       "7   fertilizer2      27\n",
       "8   fertilizer2      26\n",
       "9   fertilizer2      29\n",
       "10  fertilizer3      18\n",
       "11  fertilizer3      20\n",
       "12  fertilizer3      22\n",
       "13  fertilizer3      19\n",
       "14  fertilizer3      24"
      ]
     },
     "execution_count": 35,
     "metadata": {},
     "output_type": "execute_result"
    }
   ],
   "source": [
    "# Create a dataframe\n",
    "df = pd.DataFrame({\"fertilizer\": [\"fertilizer1\"] * 5 + [\"fertilizer2\"] * 5 + [\"fertilizer3\"] * 5,\n",
    "                   \"growth\": fertilizer1 + fertilizer2 + fertilizer3})\n",
    "df"
   ]
  },
  {
   "cell_type": "code",
   "execution_count": 36,
   "metadata": {},
   "outputs": [],
   "source": [
    "# Fit the model (predict growth on based of fertilizer)\n",
    "model = ols(\"growth ~ fertilizer\", data = df).fit() # osl stands fro ordinal least squares"
   ]
  },
  {
   "cell_type": "code",
   "execution_count": 37,
   "metadata": {},
   "outputs": [
    {
     "name": "stdout",
     "output_type": "stream",
     "text": [
      "                sum_sq    df          F    PR(>F)\n",
      "fertilizer  154.533333   2.0  15.662162  0.000452\n",
      "Residual     59.200000  12.0        NaN       NaN\n"
     ]
    }
   ],
   "source": [
    "# Perform ANOVA and print the summary table\n",
    "anova_table = sm.stats.anova_lm(model, typ = 2)\n",
    "print(anova_table)"
   ]
  },
  {
   "cell_type": "code",
   "execution_count": 38,
   "metadata": {},
   "outputs": [
    {
     "name": "stdout",
     "output_type": "stream",
     "text": [
      "Reject null hypothesis: The means are not equal, as the p-value: {p_val} is less than 0.05\n"
     ]
    }
   ],
   "source": [
    "# print the results based on if the p-value is less than 0.05\n",
    "if anova_table[\"PR(>F)\"][0] < 0.05:\n",
    "    print(\"Reject null hypothesis: The means are not equal, as the p-value: {p_val} is less than 0.05\")\n",
    "else:\n",
    "    print(\"Failed to reject null hypothesis: The means are equal, as the p-value: {p_val} is greater than 0.05\")"
   ]
  },
  {
   "cell_type": "markdown",
   "metadata": {},
   "source": [
    "## 2. TWO-WAY ANOVA"
   ]
  },
  {
   "cell_type": "code",
   "execution_count": 39,
   "metadata": {},
   "outputs": [
    {
     "data": {
      "text/html": [
       "<div>\n",
       "<style scoped>\n",
       "    .dataframe tbody tr th:only-of-type {\n",
       "        vertical-align: middle;\n",
       "    }\n",
       "\n",
       "    .dataframe tbody tr th {\n",
       "        vertical-align: top;\n",
       "    }\n",
       "\n",
       "    .dataframe thead th {\n",
       "        text-align: right;\n",
       "    }\n",
       "</style>\n",
       "<table border=\"1\" class=\"dataframe\">\n",
       "  <thead>\n",
       "    <tr style=\"text-align: right;\">\n",
       "      <th></th>\n",
       "      <th>Growth</th>\n",
       "      <th>Fertilizer</th>\n",
       "      <th>Sunlight</th>\n",
       "    </tr>\n",
       "  </thead>\n",
       "  <tbody>\n",
       "    <tr>\n",
       "      <th>1</th>\n",
       "      <td>22</td>\n",
       "      <td>F1</td>\n",
       "      <td>High</td>\n",
       "    </tr>\n",
       "    <tr>\n",
       "      <th>17</th>\n",
       "      <td>20</td>\n",
       "      <td>F1</td>\n",
       "      <td>Low</td>\n",
       "    </tr>\n",
       "    <tr>\n",
       "      <th>23</th>\n",
       "      <td>27</td>\n",
       "      <td>F2</td>\n",
       "      <td>Low</td>\n",
       "    </tr>\n",
       "    <tr>\n",
       "      <th>25</th>\n",
       "      <td>19</td>\n",
       "      <td>F3</td>\n",
       "      <td>Low</td>\n",
       "    </tr>\n",
       "  </tbody>\n",
       "</table>\n",
       "</div>"
      ],
      "text/plain": [
       "    Growth Fertilizer Sunlight\n",
       "1       22         F1     High\n",
       "17      20         F1      Low\n",
       "23      27         F2      Low\n",
       "25      19         F3      Low"
      ]
     },
     "execution_count": 39,
     "metadata": {},
     "output_type": "execute_result"
    }
   ],
   "source": [
    "# Sample data\n",
    "df = pd.DataFrame({\n",
    "    \"Growth\": [20, 22, 19, 24, 25, 28, 30, 27, 26, 29, 18, 20, 22, 19, 24,\n",
    "               21, 23, 20, 25, 26, 29, 31, 28, 27, 30, 19, 21, 23, 20, 25],\n",
    "    \"Fertilizer\": [\"F1\", \"F1\", \"F1\", \"F1\", \"F1\", \"F2\", \"F2\", \"F2\", \"F2\", \"F2\", \n",
    "                   \"F3\", \"F3\", \"F3\", \"F3\", \"F3\", \"F1\", \"F1\", \"F1\", \"F1\", \"F1\", \n",
    "                   \"F2\", \"F2\", \"F2\", \"F2\", \"F2\", \"F3\", \"F3\", \"F3\", \"F3\", \"F3\"],\n",
    "    \"Sunlight\": [\"High\", \"High\", \"High\", \"High\", \"High\", \"High\", \"High\", \"High\", \"High\", \"High\", \n",
    "                 \"High\", \"High\", \"High\", \"High\", \"High\", \"Low\", \"Low\", \"Low\", \"Low\", \"Low\", \n",
    "                 \"Low\", \"Low\", \"Low\", \"Low\", \"Low\", \"Low\", \"Low\", \"Low\", \"Low\", \"Low\"]\n",
    "})\n",
    "df.sample(4)"
   ]
  },
  {
   "cell_type": "code",
   "execution_count": 40,
   "metadata": {},
   "outputs": [
    {
     "name": "stdout",
     "output_type": "stream",
     "text": [
      "<class 'pandas.core.frame.DataFrame'>\n",
      "RangeIndex: 30 entries, 0 to 29\n",
      "Data columns (total 3 columns):\n",
      " #   Column      Non-Null Count  Dtype \n",
      "---  ------      --------------  ----- \n",
      " 0   Growth      30 non-null     int64 \n",
      " 1   Fertilizer  30 non-null     object\n",
      " 2   Sunlight    30 non-null     object\n",
      "dtypes: int64(1), object(2)\n",
      "memory usage: 852.0+ bytes\n"
     ]
    }
   ],
   "source": [
    "df.info()"
   ]
  },
  {
   "cell_type": "code",
   "execution_count": 41,
   "metadata": {},
   "outputs": [
    {
     "name": "stdout",
     "output_type": "stream",
     "text": [
      "                                 sum_sq    df             F        PR(>F)\n",
      "C(Fertilizer)              3.090667e+02   2.0  3.132432e+01  2.038888e-07\n",
      "C(Sunlight)                7.500000e+00   1.0  1.520270e+00  2.295198e-01\n",
      "C(Fertilizer):C(Sunlight)  1.226021e-28   2.0  1.242589e-29  1.000000e+00\n",
      "Residual                   1.184000e+02  24.0           NaN           NaN\n"
     ]
    }
   ],
   "source": [
    "# Perform two-way ANOVA\n",
    "model = ols('Growth ~ C(Fertilizer) + C(Sunlight) + C(Fertilizer):C(Sunlight)', data = df).fit()\n",
    "anova_table = sm.stats.anova_lm(model, typ = 2)\n",
    "print(anova_table)"
   ]
  },
  {
   "cell_type": "code",
   "execution_count": 42,
   "metadata": {},
   "outputs": [
    {
     "name": "stdout",
     "output_type": "stream",
     "text": [
      "Reject null hypothesis: The means are not equal, as the p-value: {p_val} is less than 0.05\n"
     ]
    }
   ],
   "source": [
    "# print the results based on if the p-value is less than 0.05\n",
    "if anova_table[\"PR(>F)\"][0] < 0.05:\n",
    "    print(\"Reject null hypothesis: The means are not equal, as the p-value: {p_val} is less than 0.05\")\n",
    "else:\n",
    "    print(\"Failed to reject null hypothesis: The means are equal, as the p-value: {p_val} is greater than 0.05\")"
   ]
  },
  {
   "cell_type": "markdown",
   "metadata": {},
   "source": [
    "## Interpretation\n",
    "- For One-Way ANOVA, if the p-value is less than 0.05, it suggests a significant difference in means among the groups.\n",
    "- For Two-Way ANOVA, we look at the p-values for each factor and their interaction. A p-value less than 0.05 indicates a significant effect.\n",
    "  \n",
    "These examples should give you a good starting point for conducting ANOVA analyses in Python. Remember, the interpretation of your results should always take into account the context of your data and the specific question you are trying to answer."
   ]
  },
  {
   "cell_type": "markdown",
   "metadata": {},
   "source": [
    "## 3. N-WAY ANOVA (FACTORIAL ANOVA)\n",
    "N-way ANOVA, also known as factorial ANOVA, is used when you have more than two independent variables. It allows you to analyze the effects of each factor on the dependent variable and the interaction effects between factors.\n",
    "\n",
    "Example: Three-Way ANOVA\n",
    "Suppose we have an experimental data set with three factors:\n",
    "\n",
    "Fertilizer Type (3 levels: F1, F2, F3)\n",
    "Sunlight Exposure (2 levels: High, Low)\n",
    "Watering Frequency (2 levels: Regular, Sparse)\n",
    "\n",
    "We want to study the impact of these factors and their interactions on plant growth."
   ]
  },
  {
   "cell_type": "code",
   "execution_count": 43,
   "metadata": {},
   "outputs": [
    {
     "data": {
      "text/html": [
       "<div>\n",
       "<style scoped>\n",
       "    .dataframe tbody tr th:only-of-type {\n",
       "        vertical-align: middle;\n",
       "    }\n",
       "\n",
       "    .dataframe tbody tr th {\n",
       "        vertical-align: top;\n",
       "    }\n",
       "\n",
       "    .dataframe thead th {\n",
       "        text-align: right;\n",
       "    }\n",
       "</style>\n",
       "<table border=\"1\" class=\"dataframe\">\n",
       "  <thead>\n",
       "    <tr style=\"text-align: right;\">\n",
       "      <th></th>\n",
       "      <th>Growth</th>\n",
       "      <th>Fertilizer</th>\n",
       "      <th>Sunlight</th>\n",
       "      <th>Watering</th>\n",
       "    </tr>\n",
       "  </thead>\n",
       "  <tbody>\n",
       "    <tr>\n",
       "      <th>0</th>\n",
       "      <td>20</td>\n",
       "      <td>F1</td>\n",
       "      <td>High</td>\n",
       "      <td>Regular</td>\n",
       "    </tr>\n",
       "    <tr>\n",
       "      <th>1</th>\n",
       "      <td>22</td>\n",
       "      <td>F1</td>\n",
       "      <td>High</td>\n",
       "      <td>Regular</td>\n",
       "    </tr>\n",
       "    <tr>\n",
       "      <th>2</th>\n",
       "      <td>19</td>\n",
       "      <td>F1</td>\n",
       "      <td>High</td>\n",
       "      <td>Regular</td>\n",
       "    </tr>\n",
       "    <tr>\n",
       "      <th>3</th>\n",
       "      <td>24</td>\n",
       "      <td>F1</td>\n",
       "      <td>High</td>\n",
       "      <td>Regular</td>\n",
       "    </tr>\n",
       "    <tr>\n",
       "      <th>4</th>\n",
       "      <td>25</td>\n",
       "      <td>F1</td>\n",
       "      <td>High</td>\n",
       "      <td>Regular</td>\n",
       "    </tr>\n",
       "  </tbody>\n",
       "</table>\n",
       "</div>"
      ],
      "text/plain": [
       "   Growth Fertilizer Sunlight Watering\n",
       "0      20         F1     High  Regular\n",
       "1      22         F1     High  Regular\n",
       "2      19         F1     High  Regular\n",
       "3      24         F1     High  Regular\n",
       "4      25         F1     High  Regular"
      ]
     },
     "execution_count": 43,
     "metadata": {},
     "output_type": "execute_result"
    }
   ],
   "source": [
    "import pandas as pd\n",
    "import statsmodels.api as sm\n",
    "from statsmodels.formula.api import ols\n",
    "\n",
    "# Sample data\n",
    "df = pd.DataFrame({\n",
    "    \"Growth\": [20, 22, 19, 24, 25, 28, 30, 27, 26, 29, 18, 20, 22, 19, 24,\n",
    "               21, 23, 20, 25, 26, 29, 31, 28, 27, 30, 19, 21, 23, 20, 25,\n",
    "               20, 22, 21, 23, 24, 26, 28, 25, 27, 29, 17, 19, 21, 18, 20],\n",
    "    \"Fertilizer\": [\"F1\", \"F1\", \"F1\", \"F1\", \"F1\", \"F2\", \"F2\", \"F2\", \"F2\", \"F2\", \n",
    "                   \"F3\", \"F3\", \"F3\", \"F3\", \"F3\", \"F1\", \"F1\", \"F1\", \"F1\", \"F1\", \n",
    "                   \"F2\", \"F2\", \"F2\", \"F2\", \"F2\", \"F3\", \"F3\", \"F3\", \"F3\", \"F3\",\n",
    "                   \"F1\", \"F1\", \"F1\", \"F1\", \"F1\", \"F2\", \"F2\", \"F2\", \"F2\", \"F2\", \n",
    "                   \"F3\", \"F3\", \"F3\", \"F3\", \"F3\"],\n",
    "    \"Sunlight\": [\"High\", \"High\", \"High\", \"High\", \"High\", \"High\", \"High\", \"High\", \"High\", \"High\", \n",
    "                 \"High\", \"High\", \"High\", \"High\", \"High\", \"Low\", \"Low\", \"Low\", \"Low\", \"Low\", \n",
    "                 \"Low\", \"Low\", \"Low\", \"Low\", \"Low\", \"Low\", \"Low\", \"Low\", \"Low\", \"Low\",\n",
    "                 \"High\", \"High\", \"High\", \"High\", \"High\", \"High\", \"High\", \"High\", \"High\", \"High\", \n",
    "                 \"High\", \"High\", \"High\", \"High\", \"High\"],\n",
    "    \"Watering\": [\"Regular\", \"Regular\", \"Regular\", \"Regular\", \"Regular\", \n",
    "                 \"Regular\", \"Regular\", \"Regular\", \"Regular\", \"Regular\",\n",
    "                 \"Regular\", \"Regular\", \"Regular\", \"Regular\", \"Regular\",\n",
    "                 \"Sparse\", \"Sparse\", \"Sparse\", \"Sparse\", \"Sparse\", \n",
    "                 \"Sparse\", \"Sparse\", \"Sparse\", \"Sparse\", \"Sparse\",\n",
    "                 \"Sparse\", \"Sparse\", \"Sparse\", \"Sparse\", \"Sparse\",\n",
    "                 \"Regular\", \"Regular\", \"Regular\", \"Regular\", \"Regular\", \n",
    "                 \"Regular\", \"Regular\", \"Regular\", \"Regular\", \"Regular\",\n",
    "                 \"Regular\", \"Regular\", \"Regular\", \"Regular\", \"Regular\"]\n",
    "})\n",
    "\n",
    "df.head()"
   ]
  },
  {
   "cell_type": "code",
   "execution_count": 44,
   "metadata": {},
   "outputs": [],
   "source": [
    "# Fit the model\n",
    "model = ols('Growth ~ C(Fertilizer) + C(Sunlight) + C(Watering) + C(Fertilizer):C(Sunlight) + C(Fertilizer):C(Watering) + C(Sunlight):C(Watering) + C(Fertilizer):C(Sunlight):C(Watering)', data = df).fit()"
   ]
  },
  {
   "cell_type": "code",
   "execution_count": 45,
   "metadata": {},
   "outputs": [
    {
     "name": "stdout",
     "output_type": "stream",
     "text": [
      "                                             sum_sq    df             F  \\\n",
      "C(Fertilizer)                          5.606667e+01   2.0  6.950413e+00   \n",
      "C(Sunlight)                           -1.267188e-11   1.0 -3.141788e-12   \n",
      "C(Watering)                           -1.726407e-11   1.0 -4.280348e-12   \n",
      "C(Fertilizer):C(Sunlight)              5.813222e-15   2.0  7.206474e-16   \n",
      "C(Fertilizer):C(Watering)             -3.159168e-14   2.0 -3.916325e-15   \n",
      "C(Sunlight):C(Watering)                2.054444e+01   1.0  5.093664e+00   \n",
      "C(Fertilizer):C(Sunlight):C(Watering)  1.088889e+00   2.0  1.349862e-01   \n",
      "Residual                               1.573000e+02  39.0           NaN   \n",
      "\n",
      "                                         PR(>F)  \n",
      "C(Fertilizer)                          0.011967  \n",
      "C(Sunlight)                            1.000000  \n",
      "C(Watering)                            1.000000  \n",
      "C(Fertilizer):C(Sunlight)              1.000000  \n",
      "C(Fertilizer):C(Watering)              1.000000  \n",
      "C(Sunlight):C(Watering)                0.029691  \n",
      "C(Fertilizer):C(Sunlight):C(Watering)  0.874134  \n",
      "Residual                                    NaN  \n"
     ]
    }
   ],
   "source": [
    "# Perform three-way ANOVA\n",
    "anova_results = sm.stats.anova_lm(model, typ = 2)\n",
    "print(anova_results)"
   ]
  },
  {
   "cell_type": "code",
   "execution_count": 49,
   "metadata": {},
   "outputs": [
    {
     "name": "stdout",
     "output_type": "stream",
     "text": [
      "Reject null hypothesis: The means are not equal, as the p-value: {p_val} is less than 0.05\n"
     ]
    }
   ],
   "source": [
    "# print the results based on if the p-value is less than 0.05\n",
    "if anova_results[\"PR(>F)\"][0] < 0.05:\n",
    "    print(\"Reject null hypothesis: The means are not equal, as the p-value: {p_val} is less than 0.05\")\n",
    "else:\n",
    "    print(\"Faield to reject null hypothesis: The means are equal, as the p-value: {p_val} is greater than 0.05\")"
   ]
  },
  {
   "cell_type": "markdown",
   "metadata": {},
   "source": [
    "## Interpretation\n",
    "In the output, you'll see p-values for:\n",
    "\n",
    "- The main effects of each factor (Fertilizer, Sunlight, Watering)\n",
    "- The interaction effects between two factors (e.g., Fertilizer:Sunlight)\n",
    "- The interaction effect among all three factors (Fertilizer:Sunlight:Watering)\n",
    "\n",
    "A p-value less than 0.05 typically suggests a statistically significant effect. However, interpreting ANOVA results can be complex, especially with interactions. You should consider the practical significance and the context of your experiment alongside the statistical results.\n",
    "\n",
    "Remember, ANOVA makes certain assumptions (normality, homogeneity of variance, and independence), which should be tested before running the analysis."
   ]
  }
 ],
 "metadata": {
  "kernelspec": {
   "display_name": "myenv",
   "language": "python",
   "name": "python3"
  },
  "language_info": {
   "codemirror_mode": {
    "name": "ipython",
    "version": 3
   },
   "file_extension": ".py",
   "mimetype": "text/x-python",
   "name": "python",
   "nbconvert_exporter": "python",
   "pygments_lexer": "ipython3",
   "version": "3.12.2"
  }
 },
 "nbformat": 4,
 "nbformat_minor": 2
}
