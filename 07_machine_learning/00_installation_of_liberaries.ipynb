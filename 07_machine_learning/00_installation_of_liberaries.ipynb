{
 "cells": [
  {
   "cell_type": "markdown",
   "id": "708e6f22-4849-4d55-9ae2-8ead227157e2",
   "metadata": {},
   "source": [
    "## Steps"
   ]
  },
  {
   "cell_type": "markdown",
   "id": "8d083799-10d7-4a61-8dc8-00035fa1663b",
   "metadata": {},
   "source": [
    "1. Create a new conda environment\n",
    "2. Install the following liberaries:\n",
    "   1. pandas\n",
    "   2. numpy\n",
    "   3. seasorn\n",
    "   4. matplotlib\n",
    "   5. scikit-learn\n",
    "   6. scipy\n",
    "   7. jupyter\n",
    "   8. plotly"
   ]
  },
  {
   "cell_type": "markdown",
   "id": "d042dcad-d4ca-47f6-ae9d-58a987afd71e",
   "metadata": {},
   "source": [
    "## How to install these liberaries"
   ]
  },
  {
   "cell_type": "markdown",
   "id": "6765f619-3b02-4055-9a0c-424982bbe33b",
   "metadata": {},
   "source": [
    " pip install numpy pandas matplotlib seaborn scikit-learn scipy plotly jupyter "
   ]
  },
  {
   "cell_type": "code",
   "execution_count": null,
   "id": "b1fcfaf5-8eab-4b21-9a28-4da33adcb758",
   "metadata": {},
   "outputs": [],
   "source": []
  }
 ],
 "metadata": {
  "kernelspec": {
   "display_name": "Python 3 (ipykernel)",
   "language": "python",
   "name": "python3"
  },
  "language_info": {
   "codemirror_mode": {
    "name": "ipython",
    "version": 3
   },
   "file_extension": ".py",
   "mimetype": "text/x-python",
   "name": "python",
   "nbconvert_exporter": "python",
   "pygments_lexer": "ipython3",
   "version": "3.12.2"
  }
 },
 "nbformat": 4,
 "nbformat_minor": 5
}
