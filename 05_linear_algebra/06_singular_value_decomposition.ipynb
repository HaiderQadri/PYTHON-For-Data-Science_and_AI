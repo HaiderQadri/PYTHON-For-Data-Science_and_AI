{
 "cells": [
  {
   "cell_type": "markdown",
   "metadata": {},
   "source": [
    "# Singular Value Decomposition (SVD) in Python"
   ]
  },
  {
   "cell_type": "code",
   "execution_count": 2,
   "metadata": {},
   "outputs": [],
   "source": [
    "# import the liberary\n",
    "import numpy as np"
   ]
  },
  {
   "cell_type": "code",
   "execution_count": 3,
   "metadata": {},
   "outputs": [
    {
     "data": {
      "text/plain": [
       "array([[0.74708256, 0.97718051, 0.64150624, 0.74662829, 0.15473255],\n",
       "       [0.53468929, 0.10143473, 0.11367652, 0.23110265, 0.74243312],\n",
       "       [0.71654159, 0.18461437, 0.85634322, 0.90539972, 0.80797564],\n",
       "       [0.87776235, 0.77615387, 0.83541796, 0.14081701, 0.91468695]])"
      ]
     },
     "execution_count": 3,
     "metadata": {},
     "output_type": "execute_result"
    }
   ],
   "source": [
    "# Let's generate a random  matrix of 4x5\n",
    "A = np.random.rand(4, 5)\n",
    "A"
   ]
  },
  {
   "cell_type": "code",
   "execution_count": 5,
   "metadata": {},
   "outputs": [],
   "source": [
    "# Let's apply SVD here\n",
    "U, Sigma, VT = np.linalg.svd(A)"
   ]
  },
  {
   "cell_type": "code",
   "execution_count": 12,
   "metadata": {},
   "outputs": [
    {
     "name": "stdout",
     "output_type": "stream",
     "text": [
      "U Matrix= [[ 0.51129821  0.7857731   0.08235199  0.33816111]\n",
      " [ 0.28675683 -0.52182063 -0.08283001  0.79913262]\n",
      " [ 0.56038704 -0.29889982  0.70137764 -0.32356556]\n",
      " [ 0.58507353 -0.14464704 -0.70315485 -0.37727901]]\n",
      "--------------------------------\n",
      "Sigma Matrix= [2.78673331 0.86326707 0.69378746 0.3284871 ]\n",
      "--------------------------------\n",
      "VT Matrix= [[ 0.52046743  0.38980419  0.47699688  0.3724011   0.45930138]\n",
      " [-0.0383594   0.63417438  0.07872189  0.20282681 -0.74095584]\n",
      " [-0.14039054 -0.49611887  0.08158878  0.8336199  -0.18049292]\n",
      " [ 0.35591178  0.17943727 -0.86607284  0.27726766  0.11903595]\n",
      " [-0.76240378  0.40932125 -0.09766243  0.21995274  0.43963557]]\n"
     ]
    }
   ],
   "source": [
    "# Print each matrix separately\n",
    "print(\"U Matrix=\", U)\n",
    "print(\"--------------------------------\")\n",
    "print(\"Sigma Matrix=\",Sigma)\n",
    "print(\"--------------------------------\")\n",
    "print(\"VT Matrix=\",VT) # here T stands for transpose"
   ]
  },
  {
   "cell_type": "code",
   "execution_count": 9,
   "metadata": {},
   "outputs": [
    {
     "data": {
      "text/plain": [
       "(4, 4)"
      ]
     },
     "execution_count": 9,
     "metadata": {},
     "output_type": "execute_result"
    }
   ],
   "source": [
    "U.shape"
   ]
  },
  {
   "cell_type": "code",
   "execution_count": 10,
   "metadata": {},
   "outputs": [
    {
     "data": {
      "text/plain": [
       "(4,)"
      ]
     },
     "execution_count": 10,
     "metadata": {},
     "output_type": "execute_result"
    }
   ],
   "source": [
    "Sigma.shape"
   ]
  },
  {
   "cell_type": "code",
   "execution_count": 11,
   "metadata": {},
   "outputs": [
    {
     "data": {
      "text/plain": [
       "(5, 5)"
      ]
     },
     "execution_count": 11,
     "metadata": {},
     "output_type": "execute_result"
    }
   ],
   "source": [
    "VT.shape"
   ]
  },
  {
   "cell_type": "code",
   "execution_count": null,
   "metadata": {},
   "outputs": [],
   "source": []
  }
 ],
 "metadata": {
  "kernelspec": {
   "display_name": "myenv",
   "language": "python",
   "name": "python3"
  },
  "language_info": {
   "codemirror_mode": {
    "name": "ipython",
    "version": 3
   },
   "file_extension": ".py",
   "mimetype": "text/x-python",
   "name": "python",
   "nbconvert_exporter": "python",
   "pygments_lexer": "ipython3",
   "version": "3.12.2"
  }
 },
 "nbformat": 4,
 "nbformat_minor": 2
}
