{
 "cells": [
  {
   "cell_type": "markdown",
   "id": "1491873d-68d8-424e-80a9-59e31be2d2a7",
   "metadata": {},
   "source": [
    "## numpy (Part 03)"
   ]
  },
  {
   "cell_type": "code",
   "execution_count": 1,
   "id": "c49aa3d4-2305-4c20-a612-0a3dc69ce17d",
   "metadata": {},
   "outputs": [],
   "source": [
    "# import liberary\n",
    "import numpy as np"
   ]
  },
  {
   "cell_type": "markdown",
   "id": "340fa444-0fc5-4590-81df-660e5e53f7ab",
   "metadata": {},
   "source": [
    "## Indexing and Slicing"
   ]
  },
  {
   "cell_type": "code",
   "execution_count": 5,
   "id": "94adc9ed-611a-46d4-bf88-c2abd91d82a7",
   "metadata": {},
   "outputs": [
    {
     "data": {
      "text/plain": [
       "array([0, 1, 2, 3, 4, 5, 6, 7, 8])"
      ]
     },
     "execution_count": 5,
     "metadata": {},
     "output_type": "execute_result"
    }
   ],
   "source": [
    "a = np.arange(9)\n",
    "a"
   ]
  },
  {
   "cell_type": "code",
   "execution_count": 7,
   "id": "9e7ef799-7a0e-4ec1-96ea-5210ceeac33b",
   "metadata": {},
   "outputs": [
    {
     "data": {
      "text/plain": [
       "4"
      ]
     },
     "execution_count": 7,
     "metadata": {},
     "output_type": "execute_result"
    }
   ],
   "source": [
    "# we want the value at index 4\n",
    "a[4]"
   ]
  },
  {
   "cell_type": "code",
   "execution_count": 8,
   "id": "22853c7d-af71-4b7e-8c7f-659ff92c0b1a",
   "metadata": {},
   "outputs": [
    {
     "data": {
      "text/plain": [
       "0"
      ]
     },
     "execution_count": 8,
     "metadata": {},
     "output_type": "execute_result"
    }
   ],
   "source": [
    "a[0]"
   ]
  },
  {
   "cell_type": "code",
   "execution_count": 10,
   "id": "581c6562-39a2-473f-bce3-c2a3b1d5b2d2",
   "metadata": {},
   "outputs": [
    {
     "data": {
      "text/plain": [
       "8"
      ]
     },
     "execution_count": 10,
     "metadata": {},
     "output_type": "execute_result"
    }
   ],
   "source": [
    "a[-1] # from right to left we use negative sign "
   ]
  },
  {
   "cell_type": "code",
   "execution_count": 15,
   "id": "90cce102-7de6-43ac-ab16-5c097dbe7b13",
   "metadata": {},
   "outputs": [
    {
     "data": {
      "text/plain": [
       "array([2, 3, 4, 5, 6, 7, 8])"
      ]
     },
     "execution_count": 15,
     "metadata": {},
     "output_type": "execute_result"
    }
   ],
   "source": [
    "a[2:] # gives value from index 2 to onward"
   ]
  },
  {
   "cell_type": "code",
   "execution_count": 16,
   "id": "bb641c32-a957-44ce-837d-4f79e13fe9fd",
   "metadata": {},
   "outputs": [
    {
     "data": {
      "text/plain": [
       "array([2, 3, 4, 5])"
      ]
     },
     "execution_count": 16,
     "metadata": {},
     "output_type": "execute_result"
    }
   ],
   "source": [
    "a[2:6] # gives values between from index 2 to 6"
   ]
  },
  {
   "cell_type": "code",
   "execution_count": 21,
   "id": "eadf8d92-98d3-4ef4-bb84-2681c816881e",
   "metadata": {},
   "outputs": [
    {
     "data": {
      "text/plain": [
       "array([[ 1,  2,  3,  4],\n",
       "       [ 5,  5,  6,  7],\n",
       "       [ 8,  9, 10, 11]])"
      ]
     },
     "execution_count": 21,
     "metadata": {},
     "output_type": "execute_result"
    }
   ],
   "source": [
    "# creating 2D array\n",
    "b = np.array([[1, 2, 3, 4], [5, 5, 6, 7], [8, 9, 10, 11]])\n",
    "b"
   ]
  },
  {
   "cell_type": "code",
   "execution_count": 22,
   "id": "cd885d4b-a368-4141-a5cd-9eaa72fae957",
   "metadata": {},
   "outputs": [
    {
     "data": {
      "text/plain": [
       "array([1, 2, 3, 4])"
      ]
     },
     "execution_count": 22,
     "metadata": {},
     "output_type": "execute_result"
    }
   ],
   "source": [
    "b[0]"
   ]
  },
  {
   "cell_type": "code",
   "execution_count": 23,
   "id": "919b336d-55c0-4fad-8a8b-9d4c094596ce",
   "metadata": {},
   "outputs": [
    {
     "data": {
      "text/plain": [
       "3"
      ]
     },
     "execution_count": 23,
     "metadata": {},
     "output_type": "execute_result"
    }
   ],
   "source": [
    "b[0][2]"
   ]
  },
  {
   "cell_type": "code",
   "execution_count": 24,
   "id": "bcf8c226-0b89-49e6-bf4d-19b571046940",
   "metadata": {},
   "outputs": [
    {
     "data": {
      "text/plain": [
       "array([[ 1,  2,  3,  4],\n",
       "       [ 5,  5,  6,  7],\n",
       "       [ 8,  9, 10, 11]])"
      ]
     },
     "execution_count": 24,
     "metadata": {},
     "output_type": "execute_result"
    }
   ],
   "source": [
    "b"
   ]
  },
  {
   "cell_type": "code",
   "execution_count": 26,
   "id": "5cc7d7bc-82db-46d9-ba7c-cf770b97f578",
   "metadata": {},
   "outputs": [
    {
     "data": {
      "text/plain": [
       "array([[ 6,  7],\n",
       "       [10, 11]])"
      ]
     },
     "execution_count": 26,
     "metadata": {},
     "output_type": "execute_result"
    }
   ],
   "source": [
    "b[1:, 2:]"
   ]
  },
  {
   "cell_type": "code",
   "execution_count": 27,
   "id": "33f9c19c-9905-4ecc-9ddc-36de12f6d6e9",
   "metadata": {},
   "outputs": [
    {
     "data": {
      "text/plain": [
       "array([[ 1,  2,  3,  4],\n",
       "       [ 5,  5,  6,  7],\n",
       "       [ 8,  9, 10, 11]])"
      ]
     },
     "execution_count": 27,
     "metadata": {},
     "output_type": "execute_result"
    }
   ],
   "source": [
    "b"
   ]
  },
  {
   "cell_type": "code",
   "execution_count": 29,
   "id": "775502f1-0a1e-4bd8-b7f4-d6e3a982fe7c",
   "metadata": {},
   "outputs": [
    {
     "data": {
      "text/plain": [
       "array([1, 2, 3, 4, 5, 5, 6, 7, 8, 9])"
      ]
     },
     "execution_count": 29,
     "metadata": {},
     "output_type": "execute_result"
    }
   ],
   "source": [
    "b[b < 10]"
   ]
  },
  {
   "cell_type": "code",
   "execution_count": 31,
   "id": "a38e5529-33a1-412a-b373-3a9b03a463f2",
   "metadata": {},
   "outputs": [
    {
     "data": {
      "text/plain": [
       "array([ 5,  5,  6,  7,  8,  9, 10, 11])"
      ]
     },
     "execution_count": 31,
     "metadata": {},
     "output_type": "execute_result"
    }
   ],
   "source": [
    "b[b >= 5]"
   ]
  },
  {
   "cell_type": "code",
   "execution_count": 38,
   "id": "b92ff9b0-9050-4799-a8ad-26a26a462452",
   "metadata": {},
   "outputs": [
    {
     "data": {
      "text/plain": [
       "array([[ 1,  2,  3,  4],\n",
       "       [ 5,  5,  6,  7],\n",
       "       [ 8,  9, 10, 11]])"
      ]
     },
     "execution_count": 38,
     "metadata": {},
     "output_type": "execute_result"
    }
   ],
   "source": [
    "b"
   ]
  },
  {
   "cell_type": "code",
   "execution_count": 39,
   "id": "3fc54c65-b4a1-432e-961a-362d00e29160",
   "metadata": {},
   "outputs": [
    {
     "data": {
      "text/plain": [
       "array([5, 5, 6, 7, 8])"
      ]
     },
     "execution_count": 39,
     "metadata": {},
     "output_type": "execute_result"
    }
   ],
   "source": [
    "b[(b < 9) & (b > 4)] "
   ]
  },
  {
   "cell_type": "code",
   "execution_count": 40,
   "id": "3274e1b8-879f-4237-944b-1c1dc2cce570",
   "metadata": {},
   "outputs": [
    {
     "data": {
      "text/plain": [
       "array([ 1,  2,  3,  4,  5,  5,  6,  7,  8,  9, 10, 11])"
      ]
     },
     "execution_count": 40,
     "metadata": {},
     "output_type": "execute_result"
    }
   ],
   "source": [
    "b[(b < 9) | (b > 4)] "
   ]
  },
  {
   "cell_type": "markdown",
   "id": "cf7c9ebd-545b-45c9-b73c-660e9f3bff3c",
   "metadata": {},
   "source": [
    "## filtration"
   ]
  },
  {
   "cell_type": "code",
   "execution_count": 32,
   "id": "5a6fff65-3410-4b16-a211-8aabe0efec99",
   "metadata": {},
   "outputs": [
    {
     "data": {
      "text/plain": [
       "array([[ 1,  2,  3,  4],\n",
       "       [ 5,  5,  6,  7],\n",
       "       [ 8,  9, 10, 11]])"
      ]
     },
     "execution_count": 32,
     "metadata": {},
     "output_type": "execute_result"
    }
   ],
   "source": [
    "b"
   ]
  },
  {
   "cell_type": "code",
   "execution_count": 34,
   "id": "b4546f73-5554-4869-b61e-69d833ad8868",
   "metadata": {},
   "outputs": [],
   "source": [
    "# filtering even values"
   ]
  },
  {
   "cell_type": "code",
   "execution_count": 35,
   "id": "8381e2f7-60d5-466a-a334-e67b4fb8146f",
   "metadata": {},
   "outputs": [
    {
     "data": {
      "text/plain": [
       "array([ 2,  4,  6,  8, 10])"
      ]
     },
     "execution_count": 35,
     "metadata": {},
     "output_type": "execute_result"
    }
   ],
   "source": [
    "b[b % 2 == 0]"
   ]
  },
  {
   "cell_type": "code",
   "execution_count": 36,
   "id": "4c3fb2ca-525a-45ab-bb64-36ce716dd3e1",
   "metadata": {},
   "outputs": [],
   "source": [
    "# filtering odd values"
   ]
  },
  {
   "cell_type": "code",
   "execution_count": 37,
   "id": "720626b6-c1da-47f3-aa5e-72526b7fcc20",
   "metadata": {},
   "outputs": [
    {
     "data": {
      "text/plain": [
       "array([ 1,  3,  5,  5,  7,  9, 11])"
      ]
     },
     "execution_count": 37,
     "metadata": {},
     "output_type": "execute_result"
    }
   ],
   "source": [
    "b[b % 2 == 1]"
   ]
  },
  {
   "cell_type": "code",
   "execution_count": 43,
   "id": "332b99d0-d298-49be-89cb-d1da77e55c00",
   "metadata": {},
   "outputs": [
    {
     "data": {
      "text/plain": [
       "array([2, 4, 6, 8])"
      ]
     },
     "execution_count": 43,
     "metadata": {},
     "output_type": "execute_result"
    }
   ],
   "source": [
    "b[((b > 1) & (b < 9)) & (b % 2 == 0)] "
   ]
  },
  {
   "cell_type": "markdown",
   "id": "fe386dd6-8128-46a6-bb83-dcbb6db63b38",
   "metadata": {},
   "source": [
    "## Making an array from a data or another array"
   ]
  },
  {
   "cell_type": "code",
   "execution_count": 44,
   "id": "2672240f-b22d-4785-9372-8e522e04a3c9",
   "metadata": {},
   "outputs": [
    {
     "data": {
      "text/plain": [
       "array([0, 1, 2, 3, 4, 5, 6, 7, 8])"
      ]
     },
     "execution_count": 44,
     "metadata": {},
     "output_type": "execute_result"
    }
   ],
   "source": [
    "a"
   ]
  },
  {
   "cell_type": "code",
   "execution_count": 46,
   "id": "0397c329-c43e-411f-9875-1d15e7a36fc8",
   "metadata": {},
   "outputs": [
    {
     "data": {
      "text/plain": [
       "array([2, 3, 4, 5])"
      ]
     },
     "execution_count": 46,
     "metadata": {},
     "output_type": "execute_result"
    }
   ],
   "source": [
    "new_a = a[2:6]\n",
    "new_a"
   ]
  },
  {
   "cell_type": "code",
   "execution_count": 53,
   "id": "96acd410-21c3-49a9-8de7-48e20dfa4f41",
   "metadata": {},
   "outputs": [
    {
     "data": {
      "text/plain": [
       "array([[ 1,  2,  3,  4],\n",
       "       [ 5,  5,  6,  7],\n",
       "       [ 8,  9, 10, 11]])"
      ]
     },
     "execution_count": 53,
     "metadata": {},
     "output_type": "execute_result"
    }
   ],
   "source": [
    "b"
   ]
  },
  {
   "cell_type": "code",
   "execution_count": 55,
   "id": "73105c43-20e6-4642-87e1-14c397d9a4dd",
   "metadata": {},
   "outputs": [
    {
     "data": {
      "text/plain": [
       "array([[ 9, 10, 11]])"
      ]
     },
     "execution_count": 55,
     "metadata": {},
     "output_type": "execute_result"
    }
   ],
   "source": [
    "new_b = b[2:, 1:]\n",
    "new_b"
   ]
  },
  {
   "cell_type": "markdown",
   "id": "1e447dfc-f824-4466-b512-42fbc61a121e",
   "metadata": {},
   "source": [
    "## Concatination can also be done my stacking"
   ]
  },
  {
   "cell_type": "code",
   "execution_count": 63,
   "id": "ee57cfa4-d890-4c12-9f69-5c2c0abfecb6",
   "metadata": {},
   "outputs": [
    {
     "data": {
      "text/plain": [
       "array([0, 1, 2, 3, 4, 5])"
      ]
     },
     "execution_count": 63,
     "metadata": {},
     "output_type": "execute_result"
    }
   ],
   "source": [
    "c = np.arange(6)\n",
    "c"
   ]
  },
  {
   "cell_type": "code",
   "execution_count": 64,
   "id": "1ab70bf7-6ff3-4e35-9565-c5aa96bdbfa5",
   "metadata": {},
   "outputs": [
    {
     "data": {
      "text/plain": [
       "array([ 7,  8,  9, 10, 11, 12])"
      ]
     },
     "execution_count": 64,
     "metadata": {},
     "output_type": "execute_result"
    }
   ],
   "source": [
    "d = np.arange(7, 13)\n",
    "d"
   ]
  },
  {
   "cell_type": "code",
   "execution_count": 69,
   "id": "ad002213-548f-448a-9fc4-e0121a87cfb0",
   "metadata": {},
   "outputs": [
    {
     "data": {
      "text/plain": [
       "array([[ 0,  1,  2,  3,  4,  5],\n",
       "       [ 7,  8,  9, 10, 11, 12]])"
      ]
     },
     "execution_count": 69,
     "metadata": {},
     "output_type": "execute_result"
    }
   ],
   "source": [
    "ver_stack = np.vstack((c, d))\n",
    "ver_stack"
   ]
  },
  {
   "cell_type": "code",
   "execution_count": 70,
   "id": "95bcf187-0c6d-4f6c-bc59-f9c6b067349d",
   "metadata": {},
   "outputs": [
    {
     "data": {
      "text/plain": [
       "array([ 0,  1,  2,  3,  4,  5,  7,  8,  9, 10, 11, 12])"
      ]
     },
     "execution_count": 70,
     "metadata": {},
     "output_type": "execute_result"
    }
   ],
   "source": [
    "hor_stack = np.hstack((c, d))\n",
    "hor_stack"
   ]
  },
  {
   "cell_type": "code",
   "execution_count": null,
   "id": "cc088986-3d0a-49a7-9f54-12f4f3750f1b",
   "metadata": {},
   "outputs": [],
   "source": []
  }
 ],
 "metadata": {
  "kernelspec": {
   "display_name": "Python 3 (ipykernel)",
   "language": "python",
   "name": "python3"
  },
  "language_info": {
   "codemirror_mode": {
    "name": "ipython",
    "version": 3
   },
   "file_extension": ".py",
   "mimetype": "text/x-python",
   "name": "python",
   "nbconvert_exporter": "python",
   "pygments_lexer": "ipython3",
   "version": "3.12.2"
  }
 },
 "nbformat": 4,
 "nbformat_minor": 5
}
