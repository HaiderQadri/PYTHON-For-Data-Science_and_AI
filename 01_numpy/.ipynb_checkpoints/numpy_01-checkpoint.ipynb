{
 "cells": [
  {
   "cell_type": "markdown",
   "id": "841d698c-e8bd-44ac-afb0-4b6035786b46",
   "metadata": {},
   "source": [
    "## How to install numpy liberary"
   ]
  },
  {
   "cell_type": "code",
   "execution_count": 1,
   "id": "2e580e56-49fc-473c-8f0d-096b8b26b8b1",
   "metadata": {},
   "outputs": [],
   "source": [
    "# ! pip install numpy "
   ]
  },
  {
   "cell_type": "code",
   "execution_count": 5,
   "id": "61f5744e-d84b-4916-8588-ad14cdc33d5a",
   "metadata": {},
   "outputs": [],
   "source": [
    "import numpy as np"
   ]
  },
  {
   "cell_type": "markdown",
   "id": "3119ac95-6d4c-461f-aaba-f2e71290abba",
   "metadata": {},
   "source": [
    "## What is an array ?"
   ]
  },
  {
   "cell_type": "markdown",
   "id": "b1f03257-b8fe-460f-b474-d4ee09f9ebed",
   "metadata": {},
   "source": [
    "An array is a group of similar elements or data items of the same type collected at contiguous memory locations. In simple words, we can say that in computer programming, arrays are generally used to organize the same type of data."
   ]
  },
  {
   "cell_type": "markdown",
   "id": "ff3440d7-8b27-4cc2-a8ef-c349af6822e3",
   "metadata": {},
   "source": [
    "## 1D array"
   ]
  },
  {
   "cell_type": "code",
   "execution_count": 18,
   "id": "717be2ca-9074-4688-b215-3b041fa2ad67",
   "metadata": {},
   "outputs": [
    {
     "name": "stdout",
     "output_type": "stream",
     "text": [
      "[0 1 2 3 4 5]\n"
     ]
    },
    {
     "data": {
      "text/plain": [
       "(6,)"
      ]
     },
     "execution_count": 18,
     "metadata": {},
     "output_type": "execute_result"
    }
   ],
   "source": [
    "a = np.arange(6)\n",
    "print(a)\n",
    "a.shape # to check the dimention of the array"
   ]
  },
  {
   "cell_type": "markdown",
   "id": "201518b4-878e-4b5f-9ead-520d503482b5",
   "metadata": {},
   "source": [
    "## 2D array"
   ]
  },
  {
   "cell_type": "code",
   "execution_count": 22,
   "id": "61fc6975-3824-4220-993f-46f0951b8650",
   "metadata": {},
   "outputs": [
    {
     "name": "stdout",
     "output_type": "stream",
     "text": [
      "[[0 1 2 3 4 5]]\n"
     ]
    },
    {
     "data": {
      "text/plain": [
       "(1, 6)"
      ]
     },
     "execution_count": 22,
     "metadata": {},
     "output_type": "execute_result"
    }
   ],
   "source": [
    "a2 = a[np.newaxis, :]\n",
    "print(a2)\n",
    "a2.shape "
   ]
  },
  {
   "cell_type": "code",
   "execution_count": 20,
   "id": "6d259e6d-74fc-46f5-8add-f2125727266e",
   "metadata": {},
   "outputs": [
    {
     "name": "stdout",
     "output_type": "stream",
     "text": [
      "[[0]\n",
      " [1]\n",
      " [2]\n",
      " [3]\n",
      " [4]\n",
      " [5]]\n"
     ]
    },
    {
     "data": {
      "text/plain": [
       "(6, 1)"
      ]
     },
     "execution_count": 20,
     "metadata": {},
     "output_type": "execute_result"
    }
   ],
   "source": [
    "a2 = a[:, np.newaxis]\n",
    "print(a2)\n",
    "a2.shape "
   ]
  },
  {
   "cell_type": "markdown",
   "id": "38cee09b-fa04-4d53-a30b-c6e85d7efa32",
   "metadata": {},
   "source": [
    "## 3D array"
   ]
  },
  {
   "cell_type": "code",
   "execution_count": 23,
   "id": "9d4fbf43-a1c4-4fdc-9af9-2b571f1b3655",
   "metadata": {},
   "outputs": [
    {
     "name": "stdout",
     "output_type": "stream",
     "text": [
      "[[[0 1 2 3 4 5]]]\n"
     ]
    },
    {
     "data": {
      "text/plain": [
       "(1, 1, 6)"
      ]
     },
     "execution_count": 23,
     "metadata": {},
     "output_type": "execute_result"
    }
   ],
   "source": [
    "a3 = a2[np.newaxis, :]\n",
    "print(a3)\n",
    "a3.shape"
   ]
  },
  {
   "cell_type": "markdown",
   "id": "2ccbf2d8-f10a-47a7-b143-c1e1e1e873eb",
   "metadata": {},
   "source": [
    "## Why do we have 1D, 2D or 3D arrays and where we need them in Data Science?"
   ]
  },
  {
   "cell_type": "markdown",
   "id": "21982e28-b84e-45c8-b351-6f15378ab0ff",
   "metadata": {},
   "source": [
    "\n",
    "We use 1D arrays for lists or sequences of data, like a list of numbers. 2D arrays organize data into rows and columns, useful for tables or matrices. 3D arrays add another dimension, helpful for representing data in volumes, such as medical images. In data science, these arrays are fundamental for storing, manipulating, and analyzing structured data efficiently."
   ]
  },
  {
   "cell_type": "markdown",
   "id": "4794b3ab-db9a-4776-8ffd-a9e950fc6e98",
   "metadata": {},
   "source": [
    "## Creating arrays"
   ]
  },
  {
   "cell_type": "code",
   "execution_count": 26,
   "id": "00867fc5-8bb7-4cb0-a46f-35c09d27df22",
   "metadata": {},
   "outputs": [
    {
     "data": {
      "text/plain": [
       "array([1, 2, 3, 4, 5])"
      ]
     },
     "execution_count": 26,
     "metadata": {},
     "output_type": "execute_result"
    }
   ],
   "source": [
    "a = np.array([1,2,3,4,5])\n",
    "a"
   ]
  },
  {
   "cell_type": "code",
   "execution_count": 27,
   "id": "18d36eb4-ff01-411a-8c38-ae4d4faf8a2d",
   "metadata": {},
   "outputs": [
    {
     "data": {
      "text/plain": [
       "numpy.ndarray"
      ]
     },
     "execution_count": 27,
     "metadata": {},
     "output_type": "execute_result"
    }
   ],
   "source": [
    "type(a) # check the array type"
   ]
  },
  {
   "cell_type": "code",
   "execution_count": 28,
   "id": "7595638a-a5b7-4cdd-b0aa-b74bf802af68",
   "metadata": {},
   "outputs": [
    {
     "data": {
      "text/plain": [
       "dtype('int32')"
      ]
     },
     "execution_count": 28,
     "metadata": {},
     "output_type": "execute_result"
    }
   ],
   "source": [
    "a.dtype # check the data type of elements of an array"
   ]
  },
  {
   "cell_type": "code",
   "execution_count": 49,
   "id": "72fbab9f-93d5-484c-a54c-2ee7b79e03b7",
   "metadata": {},
   "outputs": [
    {
     "data": {
      "text/plain": [
       "array([[ 1. ,  2. ,  3. ,  4. ,  5. ],\n",
       "       [ 6. ,  7. ,  8. ,  9. , 10.2]])"
      ]
     },
     "execution_count": 49,
     "metadata": {},
     "output_type": "execute_result"
    }
   ],
   "source": [
    "b = np.array([(1, 2, 3, 4, 5), (6, 7, 8, 9, 10.2)])\n",
    "b"
   ]
  },
  {
   "cell_type": "code",
   "execution_count": 50,
   "id": "4c0e7df8-fd09-4371-b63d-bfb6e1ff7ec4",
   "metadata": {},
   "outputs": [
    {
     "data": {
      "text/plain": [
       "numpy.ndarray"
      ]
     },
     "execution_count": 50,
     "metadata": {},
     "output_type": "execute_result"
    }
   ],
   "source": [
    "type(b)"
   ]
  },
  {
   "cell_type": "code",
   "execution_count": 51,
   "id": "6f7365eb-8d93-4a6d-aacf-61a0e0bd4609",
   "metadata": {},
   "outputs": [
    {
     "data": {
      "text/plain": [
       "dtype('float64')"
      ]
     },
     "execution_count": 51,
     "metadata": {},
     "output_type": "execute_result"
    }
   ],
   "source": [
    "b.dtype"
   ]
  },
  {
   "cell_type": "markdown",
   "id": "df3f3a43-176f-48a9-a1df-6d17f1c5e7db",
   "metadata": {},
   "source": [
    "## initialize an array"
   ]
  },
  {
   "cell_type": "code",
   "execution_count": 52,
   "id": "3d1ec147-9fc3-4307-a4c0-1d6edbdb74d7",
   "metadata": {},
   "outputs": [
    {
     "data": {
      "text/plain": [
       "array([[0., 0., 0., 0., 0., 0., 0., 0., 0., 0.],\n",
       "       [0., 0., 0., 0., 0., 0., 0., 0., 0., 0.],\n",
       "       [0., 0., 0., 0., 0., 0., 0., 0., 0., 0.],\n",
       "       [0., 0., 0., 0., 0., 0., 0., 0., 0., 0.]])"
      ]
     },
     "execution_count": 52,
     "metadata": {},
     "output_type": "execute_result"
    }
   ],
   "source": [
    "zeros = np.zeros((4, 10)) # (rows, columns)\n",
    "zeros"
   ]
  },
  {
   "cell_type": "code",
   "execution_count": 53,
   "id": "32c493ee-274d-4817-8d77-a3122c79ae06",
   "metadata": {},
   "outputs": [
    {
     "data": {
      "text/plain": [
       "array([[1., 1., 1., 1., 1., 1., 1., 1., 1.],\n",
       "       [1., 1., 1., 1., 1., 1., 1., 1., 1.],\n",
       "       [1., 1., 1., 1., 1., 1., 1., 1., 1.],\n",
       "       [1., 1., 1., 1., 1., 1., 1., 1., 1.],\n",
       "       [1., 1., 1., 1., 1., 1., 1., 1., 1.]])"
      ]
     },
     "execution_count": 53,
     "metadata": {},
     "output_type": "execute_result"
    }
   ],
   "source": [
    "ones = np.ones((5, 9))\n",
    "ones"
   ]
  },
  {
   "cell_type": "code",
   "execution_count": 54,
   "id": "3eb3b09a-7673-4e29-8212-16023b248aba",
   "metadata": {},
   "outputs": [
    {
     "data": {
      "text/plain": [
       "array([[8, 8, 8, 8, 8, 8, 8, 8, 8, 8, 8, 8, 8, 8],\n",
       "       [8, 8, 8, 8, 8, 8, 8, 8, 8, 8, 8, 8, 8, 8],\n",
       "       [8, 8, 8, 8, 8, 8, 8, 8, 8, 8, 8, 8, 8, 8],\n",
       "       [8, 8, 8, 8, 8, 8, 8, 8, 8, 8, 8, 8, 8, 8],\n",
       "       [8, 8, 8, 8, 8, 8, 8, 8, 8, 8, 8, 8, 8, 8],\n",
       "       [8, 8, 8, 8, 8, 8, 8, 8, 8, 8, 8, 8, 8, 8],\n",
       "       [8, 8, 8, 8, 8, 8, 8, 8, 8, 8, 8, 8, 8, 8]])"
      ]
     },
     "execution_count": 54,
     "metadata": {},
     "output_type": "execute_result"
    }
   ],
   "source": [
    "full = np.full((7,14), 8)\n",
    "full"
   ]
  },
  {
   "cell_type": "code",
   "execution_count": 58,
   "id": "16d479f9-e94c-49c5-9785-dcbed3bd9f9d",
   "metadata": {},
   "outputs": [
    {
     "data": {
      "text/plain": [
       "array([[1., 0., 0., 0., 0., 0.],\n",
       "       [0., 1., 0., 0., 0., 0.],\n",
       "       [0., 0., 1., 0., 0., 0.],\n",
       "       [0., 0., 0., 1., 0., 0.],\n",
       "       [0., 0., 0., 0., 1., 0.],\n",
       "       [0., 0., 0., 0., 0., 1.]])"
      ]
     },
     "execution_count": 58,
     "metadata": {},
     "output_type": "execute_result"
    }
   ],
   "source": [
    "identity = np.eye(6) # generate identity matrix of size (n * n)\n",
    "identity"
   ]
  },
  {
   "cell_type": "markdown",
   "id": "41c9ce1b-c22a-4ac3-ada2-671760128d95",
   "metadata": {},
   "source": [
    "## Array attributes"
   ]
  },
  {
   "cell_type": "code",
   "execution_count": 73,
   "id": "001e44b7-a69f-4979-84c3-b0190b667bb9",
   "metadata": {},
   "outputs": [
    {
     "data": {
      "text/plain": [
       "array([0, 1, 2, 3, 4, 5, 6, 7])"
      ]
     },
     "execution_count": 73,
     "metadata": {},
     "output_type": "execute_result"
    }
   ],
   "source": [
    "c = np.arange(8)\n",
    "c"
   ]
  },
  {
   "cell_type": "code",
   "execution_count": 74,
   "id": "a716dff4-d57d-484c-b4b3-c60f116b2883",
   "metadata": {},
   "outputs": [
    {
     "data": {
      "text/plain": [
       "numpy.ndarray"
      ]
     },
     "execution_count": 74,
     "metadata": {},
     "output_type": "execute_result"
    }
   ],
   "source": [
    "type(c) # tells us the type of array"
   ]
  },
  {
   "cell_type": "code",
   "execution_count": 75,
   "id": "ac7f7198-4b8c-465d-9e2b-5bccfa01e6d7",
   "metadata": {},
   "outputs": [
    {
     "data": {
      "text/plain": [
       "dtype('int32')"
      ]
     },
     "execution_count": 75,
     "metadata": {},
     "output_type": "execute_result"
    }
   ],
   "source": [
    "c.dtype # tells us the data types of the elements of an array"
   ]
  },
  {
   "cell_type": "code",
   "execution_count": 76,
   "id": "89f2b6ed-304a-430a-ba98-e12f951d293c",
   "metadata": {},
   "outputs": [
    {
     "data": {
      "text/plain": [
       "8"
      ]
     },
     "execution_count": 76,
     "metadata": {},
     "output_type": "execute_result"
    }
   ],
   "source": [
    "c.size # tells us the number of elements in the array"
   ]
  },
  {
   "cell_type": "code",
   "execution_count": 77,
   "id": "62a4fdde-2623-4bfc-8221-05deba632e5f",
   "metadata": {},
   "outputs": [
    {
     "data": {
      "text/plain": [
       "1"
      ]
     },
     "execution_count": 77,
     "metadata": {},
     "output_type": "execute_result"
    }
   ],
   "source": [
    "c.ndim # give us the dimension of array"
   ]
  },
  {
   "cell_type": "code",
   "execution_count": 78,
   "id": "9809afc3-6971-4c04-a27e-affca20abb28",
   "metadata": {},
   "outputs": [
    {
     "data": {
      "text/plain": [
       "8"
      ]
     },
     "execution_count": 78,
     "metadata": {},
     "output_type": "execute_result"
    }
   ],
   "source": [
    "len(c) # give us the length of array"
   ]
  },
  {
   "cell_type": "markdown",
   "id": "5588aefe-7e70-40bd-8e47-0468ba3e8469",
   "metadata": {},
   "source": [
    "## Basis operators"
   ]
  },
  {
   "cell_type": "code",
   "execution_count": 80,
   "id": "0a8fbc9d-497d-4565-ac23-e88ae791840b",
   "metadata": {},
   "outputs": [
    {
     "data": {
      "text/plain": [
       "array([0, 1, 2, 3, 4, 5])"
      ]
     },
     "execution_count": 80,
     "metadata": {},
     "output_type": "execute_result"
    }
   ],
   "source": [
    "array1 = np.arange(6)\n",
    "array1"
   ]
  },
  {
   "cell_type": "code",
   "execution_count": 84,
   "id": "5fc9b807-2aa3-4923-9267-f273cde18ff1",
   "metadata": {},
   "outputs": [
    {
     "data": {
      "text/plain": [
       "array([0, 1, 2, 3, 4, 5])"
      ]
     },
     "execution_count": 84,
     "metadata": {},
     "output_type": "execute_result"
    }
   ],
   "source": [
    "array2 = np.arange(6)\n",
    "array2"
   ]
  },
  {
   "cell_type": "code",
   "execution_count": 85,
   "id": "9bd7ce21-ce51-48bc-9f20-af123eb88790",
   "metadata": {},
   "outputs": [
    {
     "data": {
      "text/plain": [
       "array([ 0,  2,  4,  6,  8, 10])"
      ]
     },
     "execution_count": 85,
     "metadata": {},
     "output_type": "execute_result"
    }
   ],
   "source": [
    "sum = np.add(array1, array2)\n",
    "sum"
   ]
  },
  {
   "cell_type": "code",
   "execution_count": 88,
   "id": "89ad9c7f-3e18-4e7b-8b8f-65414bfbabe0",
   "metadata": {},
   "outputs": [
    {
     "data": {
      "text/plain": [
       "array([0, 0, 0, 0, 0, 0])"
      ]
     },
     "execution_count": 88,
     "metadata": {},
     "output_type": "execute_result"
    }
   ],
   "source": [
    "subtraction = np.subtract(array1, array2)\n",
    "subtraction"
   ]
  },
  {
   "cell_type": "code",
   "execution_count": 89,
   "id": "488d1d6d-1725-4041-ba5b-9057b24957c2",
   "metadata": {},
   "outputs": [
    {
     "data": {
      "text/plain": [
       "array([ 0,  1,  4,  9, 16, 25])"
      ]
     },
     "execution_count": 89,
     "metadata": {},
     "output_type": "execute_result"
    }
   ],
   "source": [
    "multiplication = np.multiply(array1, array2)\n",
    "multiplication"
   ]
  },
  {
   "cell_type": "code",
   "execution_count": 92,
   "id": "9aaa7a6c-46b7-4b90-8785-458d3d6dbaf6",
   "metadata": {},
   "outputs": [
    {
     "name": "stderr",
     "output_type": "stream",
     "text": [
      "C:\\Users\\Ali\\AppData\\Local\\Temp\\ipykernel_12104\\3186310100.py:1: RuntimeWarning: invalid value encountered in divide\n",
      "  division = np.divide(array1, array2)\n"
     ]
    },
    {
     "data": {
      "text/plain": [
       "array([nan,  1.,  1.,  1.,  1.,  1.])"
      ]
     },
     "execution_count": 92,
     "metadata": {},
     "output_type": "execute_result"
    }
   ],
   "source": [
    "division = np.divide(array1, array2)\n",
    "division"
   ]
  },
  {
   "cell_type": "code",
   "execution_count": 93,
   "id": "1fd66a21-5363-490d-a9f1-1b92da9390db",
   "metadata": {},
   "outputs": [],
   "source": [
    "# nan is coming because of (0/0 form) which is undeterminant form"
   ]
  },
  {
   "cell_type": "code",
   "execution_count": 97,
   "id": "563bd410-82e8-4e98-9f7e-b3f102c7fefb",
   "metadata": {},
   "outputs": [
    {
     "data": {
      "text/plain": [
       "array([5.        , 0.5       , 0.11091234])"
      ]
     },
     "execution_count": 97,
     "metadata": {},
     "output_type": "execute_result"
    }
   ],
   "source": [
    "m = np.array([10, 25, 62])\n",
    "n = np.array([2, 50, 559])\n",
    "m_devidedby_n = np.divide(m, n)\n",
    "m_devidedby_n"
   ]
  },
  {
   "cell_type": "code",
   "execution_count": null,
   "id": "1d80fb11-1c3c-4c00-9939-a8b18834332c",
   "metadata": {},
   "outputs": [],
   "source": []
  }
 ],
 "metadata": {
  "kernelspec": {
   "display_name": "Python 3 (ipykernel)",
   "language": "python",
   "name": "python3"
  },
  "language_info": {
   "codemirror_mode": {
    "name": "ipython",
    "version": 3
   },
   "file_extension": ".py",
   "mimetype": "text/x-python",
   "name": "python",
   "nbconvert_exporter": "python",
   "pygments_lexer": "ipython3",
   "version": "3.12.2"
  }
 },
 "nbformat": 4,
 "nbformat_minor": 5
}
