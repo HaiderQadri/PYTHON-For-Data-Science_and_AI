{
 "cells": [
  {
   "cell_type": "markdown",
   "id": "41d2b42f-b65f-4797-bf22-ee4d4cef4191",
   "metadata": {},
   "source": [
    "## numpy (Part 02)"
   ]
  },
  {
   "cell_type": "code",
   "execution_count": 2,
   "id": "6a49ebdd-804a-4853-a13b-ed0a9aa04a3f",
   "metadata": {},
   "outputs": [],
   "source": [
    "# import the liberary\n",
    "import numpy as np"
   ]
  },
  {
   "cell_type": "markdown",
   "id": "6137c1ef-59b8-42b9-a15d-51e78cd4b3b5",
   "metadata": {},
   "source": [
    "## Empty arrays"
   ]
  },
  {
   "cell_type": "code",
   "execution_count": 5,
   "id": "527f454c-4d66-424d-b202-e58a9436abff",
   "metadata": {},
   "outputs": [
    {
     "data": {
      "text/plain": [
       "array([0.00000000e+000, 1.07710862e-311, 1.07710862e-311, 1.07710862e-311])"
      ]
     },
     "execution_count": 5,
     "metadata": {},
     "output_type": "execute_result"
    }
   ],
   "source": [
    "empty = np.empty(4) # these values are not really zero but these are close to zero we can see by looking at their powers\n",
    "empty"
   ]
  },
  {
   "cell_type": "code",
   "execution_count": 8,
   "id": "58eda030-13ae-4d80-95ed-35021a407565",
   "metadata": {},
   "outputs": [
    {
     "data": {
      "text/plain": [
       "1.0771086205735e-311"
      ]
     },
     "execution_count": 8,
     "metadata": {},
     "output_type": "execute_result"
    }
   ],
   "source": [
    "empty[1] # we can see the individual index of the array by using this technique"
   ]
  },
  {
   "cell_type": "code",
   "execution_count": 12,
   "id": "1b72ea17-890f-42a0-966d-48bbcbbf9b0b",
   "metadata": {},
   "outputs": [
    {
     "data": {
      "text/plain": [
       "array([[1.07710994e-311, 3.16202013e-322, 0.00000000e+000],\n",
       "       [0.00000000e+000, 1.16709769e-312, 6.45841997e+170],\n",
       "       [9.76876013e+165, 5.05921750e-038, 1.55973375e+161],\n",
       "       [6.09658570e+170, 2.14359928e+160, 4.46589463e-033]])"
      ]
     },
     "execution_count": 12,
     "metadata": {},
     "output_type": "execute_result"
    }
   ],
   "source": [
    "empty2 = np.empty((4, 3)) \n",
    "empty2"
   ]
  },
  {
   "cell_type": "code",
   "execution_count": 13,
   "id": "819f67a8-6347-48b3-8044-b09a7587169d",
   "metadata": {},
   "outputs": [
    {
     "data": {
      "text/plain": [
       "array([0.00000000e+000, 1.16709769e-312, 6.45841997e+170])"
      ]
     },
     "execution_count": 13,
     "metadata": {},
     "output_type": "execute_result"
    }
   ],
   "source": [
    "empty2[1]"
   ]
  },
  {
   "cell_type": "code",
   "execution_count": 15,
   "id": "c304eb3b-2e30-4478-8725-08724fb7fe85",
   "metadata": {},
   "outputs": [
    {
     "data": {
      "text/plain": [
       "6.458419966397617e+170"
      ]
     },
     "execution_count": 15,
     "metadata": {},
     "output_type": "execute_result"
    }
   ],
   "source": [
    "empty2[1][2] "
   ]
  },
  {
   "cell_type": "markdown",
   "id": "b6d793b5-e20f-4f63-9930-2b55b49caf1d",
   "metadata": {},
   "source": [
    "## Even and Odd numbers from an array"
   ]
  },
  {
   "cell_type": "code",
   "execution_count": 17,
   "id": "9d4fd8ef-ebad-442e-a2ec-0ab03c29fa75",
   "metadata": {},
   "outputs": [
    {
     "data": {
      "text/plain": [
       "array([ 0,  1,  2,  3,  4,  5,  6,  7,  8,  9, 10, 11, 12, 13, 14, 15, 16,\n",
       "       17, 18, 19, 20, 21, 22, 23, 24])"
      ]
     },
     "execution_count": 17,
     "metadata": {},
     "output_type": "execute_result"
    }
   ],
   "source": [
    "# generating an array from (0 - 24)\n",
    "x = np.arange(25)\n",
    "x"
   ]
  },
  {
   "cell_type": "code",
   "execution_count": 28,
   "id": "24895afa-b87f-43e0-92e8-3ce43c65a635",
   "metadata": {},
   "outputs": [
    {
     "data": {
      "text/plain": [
       "array([ 0,  2,  4,  6,  8, 10, 12, 14, 16, 18])"
      ]
     },
     "execution_count": 28,
     "metadata": {},
     "output_type": "execute_result"
    }
   ],
   "source": [
    "# generating an even numbers array\n",
    "even = np.arange(0, 20, 2) # (start = 0, end = 20, difference between the numbers = 2)\n",
    "even"
   ]
  },
  {
   "cell_type": "code",
   "execution_count": 40,
   "id": "410b46a0-c330-4322-92b9-57f35dc95314",
   "metadata": {},
   "outputs": [
    {
     "data": {
      "text/plain": [
       "array([ 1,  3,  5,  7,  9, 11, 13, 15, 17, 19])"
      ]
     },
     "execution_count": 40,
     "metadata": {},
     "output_type": "execute_result"
    }
   ],
   "source": [
    "# generating odd numbers array\n",
    "odd = np.arange(1, 20, 2) # (start = 1, end = 20, difference between the numbers = 1)\n",
    "odd"
   ]
  },
  {
   "cell_type": "markdown",
   "id": "c9e8bf69-e588-4e96-ba78-d09d43ddeb47",
   "metadata": {},
   "source": [
    "## Generating an array with manual difference"
   ]
  },
  {
   "cell_type": "code",
   "execution_count": 41,
   "id": "68f6716d-cfc9-4cb0-b847-21e613ad7e87",
   "metadata": {},
   "outputs": [
    {
     "data": {
      "text/plain": [
       "array([ 1,  4,  7, 10, 13, 16, 19])"
      ]
     },
     "execution_count": 41,
     "metadata": {},
     "output_type": "execute_result"
    }
   ],
   "source": [
    "difference = np.arange (1, 20, 3)\n",
    "difference"
   ]
  },
  {
   "cell_type": "code",
   "execution_count": 42,
   "id": "dc6829d7-c88a-4da9-839d-6e12ccf59ec3",
   "metadata": {},
   "outputs": [
    {
     "data": {
      "text/plain": [
       "array([ 6. ,  6.4,  6.8,  7.2,  7.6,  8. ,  8.4,  8.8,  9.2,  9.6, 10. ,\n",
       "       10.4, 10.8, 11.2, 11.6, 12. , 12.4, 12.8, 13.2, 13.6, 14. , 14.4,\n",
       "       14.8, 15.2, 15.6, 16. , 16.4, 16.8, 17.2, 17.6, 18. , 18.4, 18.8,\n",
       "       19.2, 19.6, 20. , 20.4, 20.8, 21.2, 21.6, 22. , 22.4, 22.8, 23.2,\n",
       "       23.6, 24. , 24.4, 24.8, 25.2, 25.6, 26. , 26.4, 26.8, 27.2, 27.6,\n",
       "       28. , 28.4, 28.8, 29.2, 29.6])"
      ]
     },
     "execution_count": 42,
     "metadata": {},
     "output_type": "execute_result"
    }
   ],
   "source": [
    "diff = np.arange(6, 30, 0.4)\n",
    "diff"
   ]
  },
  {
   "cell_type": "markdown",
   "id": "7d153ee4-9a62-4890-88f2-7c8aca298abd",
   "metadata": {},
   "source": [
    "## linspace() is used to set linear trends between the numbers"
   ]
  },
  {
   "cell_type": "code",
   "execution_count": 49,
   "id": "fc71d5f9-806f-40bb-8c71-7363a7781000",
   "metadata": {},
   "outputs": [
    {
     "data": {
      "text/plain": [
       "array([ 0. ,  2.5,  5. ,  7.5, 10. ])"
      ]
     },
     "execution_count": 49,
     "metadata": {},
     "output_type": "execute_result"
    }
   ],
   "source": [
    "lin = np.linspace(0, 10, num = 5) # how many numbers you want between 0 and 10 that have equal distance\n",
    "lin"
   ]
  },
  {
   "cell_type": "code",
   "execution_count": 50,
   "id": "ac6d51c7-b79e-4583-a5a2-9aad9217bb66",
   "metadata": {},
   "outputs": [
    {
     "data": {
      "text/plain": [
       "array([ 0.        ,  2.22222222,  4.44444444,  6.66666667,  8.88888889,\n",
       "       11.11111111, 13.33333333, 15.55555556, 17.77777778, 20.        ])"
      ]
     },
     "execution_count": 50,
     "metadata": {},
     "output_type": "execute_result"
    }
   ],
   "source": [
    "lin = np.linspace(0, 20, num = 10)\n",
    "lin"
   ]
  },
  {
   "cell_type": "markdown",
   "id": "3c0b58e8-3633-4032-9146-7a0bf375e510",
   "metadata": {},
   "source": [
    "## We can generate an array with specifying its dtype"
   ]
  },
  {
   "cell_type": "code",
   "execution_count": 52,
   "id": "246958d8-5de8-4917-8598-d426a54a68a6",
   "metadata": {},
   "outputs": [
    {
     "data": {
      "text/plain": [
       "array([0, 1, 2, 3, 4, 5, 6, 7, 8, 9])"
      ]
     },
     "execution_count": 52,
     "metadata": {},
     "output_type": "execute_result"
    }
   ],
   "source": [
    "x = np.arange(0, 10)\n",
    "x"
   ]
  },
  {
   "cell_type": "code",
   "execution_count": 53,
   "id": "f69f183e-5557-4bf8-90aa-0276d925b833",
   "metadata": {},
   "outputs": [
    {
     "data": {
      "text/plain": [
       "dtype('int32')"
      ]
     },
     "execution_count": 53,
     "metadata": {},
     "output_type": "execute_result"
    }
   ],
   "source": [
    "x.dtype"
   ]
  },
  {
   "cell_type": "code",
   "execution_count": 54,
   "id": "a702e4ca-c40b-4c4d-aa82-06dcc848c8a3",
   "metadata": {},
   "outputs": [
    {
     "data": {
      "text/plain": [
       "array([0., 1., 2., 3., 4., 5., 6., 7., 8., 9.])"
      ]
     },
     "execution_count": 54,
     "metadata": {},
     "output_type": "execute_result"
    }
   ],
   "source": [
    "x = np.arange(0, 10, dtype = np.float64)\n",
    "x"
   ]
  },
  {
   "cell_type": "code",
   "execution_count": 55,
   "id": "e4282004-d2f8-429c-a9cb-3899f709292d",
   "metadata": {},
   "outputs": [
    {
     "data": {
      "text/plain": [
       "dtype('float64')"
      ]
     },
     "execution_count": 55,
     "metadata": {},
     "output_type": "execute_result"
    }
   ],
   "source": [
    "x.dtype"
   ]
  },
  {
   "cell_type": "code",
   "execution_count": 59,
   "id": "098716d1-10d8-4f55-96aa-ca6b7b0cd0d5",
   "metadata": {},
   "outputs": [
    {
     "data": {
      "text/plain": [
       "array([ 0. ,  1.3,  2.6,  3.9,  5.2,  6.5,  7.8,  9.1, 10.4, 11.7, 13. ,\n",
       "       14.3, 15.6, 16.9, 18.2, 19.5, 20.8, 22.1, 23.4, 24.7, 26. , 27.3,\n",
       "       28.6, 29.9, 31.2, 32.5, 33.8, 35.1, 36.4, 37.7, 39. , 40.3, 41.6,\n",
       "       42.9, 44.2, 45.5, 46.8, 48.1, 49.4])"
      ]
     },
     "execution_count": 59,
     "metadata": {},
     "output_type": "execute_result"
    }
   ],
   "source": [
    "y = np.arange(0, 50, 1.3)\n",
    "y"
   ]
  },
  {
   "cell_type": "code",
   "execution_count": 60,
   "id": "ba4fef6a-3eae-4d36-afa3-bf8927bb10b5",
   "metadata": {},
   "outputs": [
    {
     "data": {
      "text/plain": [
       "dtype('float64')"
      ]
     },
     "execution_count": 60,
     "metadata": {},
     "output_type": "execute_result"
    }
   ],
   "source": [
    "y.dtype"
   ]
  },
  {
   "cell_type": "code",
   "execution_count": 61,
   "id": "9df867b0-fb7a-48ef-b1e9-b320ba45b3e8",
   "metadata": {},
   "outputs": [
    {
     "data": {
      "text/plain": [
       "array([ 0,  1,  2,  3,  4,  5,  6,  7,  8,  9, 10, 11, 12, 13, 14, 15, 16,\n",
       "       17, 18, 19, 20, 21, 22, 23, 24, 25, 26, 27, 28, 29, 30, 31, 32, 33,\n",
       "       34, 35, 36, 37, 38])"
      ]
     },
     "execution_count": 61,
     "metadata": {},
     "output_type": "execute_result"
    }
   ],
   "source": [
    "y = np.arange(0, 50, 1.3, dtype = np.int32)\n",
    "y"
   ]
  },
  {
   "cell_type": "code",
   "execution_count": 62,
   "id": "099661a7-cd3e-452d-a10d-94893a0b6a4a",
   "metadata": {},
   "outputs": [
    {
     "data": {
      "text/plain": [
       "dtype('int32')"
      ]
     },
     "execution_count": 62,
     "metadata": {},
     "output_type": "execute_result"
    }
   ],
   "source": [
    "y.dtype"
   ]
  },
  {
   "cell_type": "markdown",
   "id": "229c0795-df2a-4656-a6fc-c405995f7184",
   "metadata": {},
   "source": [
    "## Sorting arrays"
   ]
  },
  {
   "cell_type": "code",
   "execution_count": 63,
   "id": "777debdd-d5fb-4a82-9a21-09decf528b58",
   "metadata": {},
   "outputs": [
    {
     "data": {
      "text/plain": [
       "array([  5,  84, 632,  63,  20,   1,   8,   7,  45,  11])"
      ]
     },
     "execution_count": 63,
     "metadata": {},
     "output_type": "execute_result"
    }
   ],
   "source": [
    "arr = np.array([5, 84, 632, 63, 20, 1, 8, 7, 45, 11])\n",
    "arr"
   ]
  },
  {
   "cell_type": "code",
   "execution_count": 66,
   "id": "f797262e-7ad2-41e8-9b23-f6303a109bdb",
   "metadata": {},
   "outputs": [
    {
     "data": {
      "text/plain": [
       "array([  1,   5,   7,   8,  11,  20,  45,  63,  84, 632])"
      ]
     },
     "execution_count": 66,
     "metadata": {},
     "output_type": "execute_result"
    }
   ],
   "source": [
    "arr = np.sort(arr) \n",
    "arr"
   ]
  },
  {
   "cell_type": "markdown",
   "id": "18017914-431b-4a7c-8233-04988a2632fa",
   "metadata": {},
   "source": [
    "## Concatination"
   ]
  },
  {
   "cell_type": "markdown",
   "id": "3151a542-73f9-4d93-9846-df96beabb1fa",
   "metadata": {},
   "source": [
    "## concatinate 1D arrays"
   ]
  },
  {
   "cell_type": "code",
   "execution_count": 67,
   "id": "1fa103c7-8488-497a-bcf2-03e1c2d86a6e",
   "metadata": {},
   "outputs": [
    {
     "data": {
      "text/plain": [
       "array([1, 2, 3, 4, 5, 6])"
      ]
     },
     "execution_count": 67,
     "metadata": {},
     "output_type": "execute_result"
    }
   ],
   "source": [
    "x = np.array([1, 2, 3, 4, 5, 6])\n",
    "x"
   ]
  },
  {
   "cell_type": "code",
   "execution_count": 68,
   "id": "4e8431df-51e8-4a43-8301-acd430a15d31",
   "metadata": {},
   "outputs": [
    {
     "data": {
      "text/plain": [
       "array([ 7,  8,  9, 10, 11, 12, 13])"
      ]
     },
     "execution_count": 68,
     "metadata": {},
     "output_type": "execute_result"
    }
   ],
   "source": [
    "y = np.array([7, 8, 9, 10, 11, 12, 13])\n",
    "y"
   ]
  },
  {
   "cell_type": "code",
   "execution_count": 69,
   "id": "9a313c9f-ffc6-4b26-b2fe-f6404e0f4646",
   "metadata": {},
   "outputs": [
    {
     "data": {
      "text/plain": [
       "array([ 1,  2,  3,  4,  5,  6,  7,  8,  9, 10, 11, 12, 13])"
      ]
     },
     "execution_count": 69,
     "metadata": {},
     "output_type": "execute_result"
    }
   ],
   "source": [
    "z = np.concatenate((x, y))\n",
    "z"
   ]
  },
  {
   "cell_type": "markdown",
   "id": "841dbd00-b00c-4dfa-8ef3-3d340ef7e861",
   "metadata": {},
   "source": [
    "## concatinate 2D arrays"
   ]
  },
  {
   "cell_type": "code",
   "execution_count": 76,
   "id": "21815e85-d228-407c-8221-d9a123a2fdcf",
   "metadata": {},
   "outputs": [
    {
     "data": {
      "text/plain": [
       "array([[1, 2],\n",
       "       [3, 4]])"
      ]
     },
     "execution_count": 76,
     "metadata": {},
     "output_type": "execute_result"
    }
   ],
   "source": [
    "x2 = np.array([[1, 2], [3, 4]])\n",
    "x2"
   ]
  },
  {
   "cell_type": "code",
   "execution_count": 77,
   "id": "34f310f7-ef75-43be-a910-f2d73d3f7e0b",
   "metadata": {},
   "outputs": [],
   "source": [
    "y2 = np.array([[5, 6], [7, 8]])"
   ]
  },
  {
   "cell_type": "code",
   "execution_count": 78,
   "id": "3514ffbf-27dd-4564-81f9-2fcf7f3b3dd1",
   "metadata": {},
   "outputs": [
    {
     "data": {
      "text/plain": [
       "array([[5, 6],\n",
       "       [7, 8]])"
      ]
     },
     "execution_count": 78,
     "metadata": {},
     "output_type": "execute_result"
    }
   ],
   "source": [
    "y2"
   ]
  },
  {
   "cell_type": "code",
   "execution_count": 79,
   "id": "a426ce58-5665-4fc8-95d6-9fc6413ce9d7",
   "metadata": {},
   "outputs": [
    {
     "data": {
      "text/plain": [
       "array([[1, 2],\n",
       "       [3, 4],\n",
       "       [5, 6],\n",
       "       [7, 8]])"
      ]
     },
     "execution_count": 79,
     "metadata": {},
     "output_type": "execute_result"
    }
   ],
   "source": [
    "z2 = np.concatenate((x2, y2))\n",
    "z2"
   ]
  },
  {
   "cell_type": "code",
   "execution_count": 80,
   "id": "b4a7c840-db3c-47cf-a396-73e4f48acd6f",
   "metadata": {},
   "outputs": [
    {
     "data": {
      "text/plain": [
       "array([[1, 2],\n",
       "       [3, 4],\n",
       "       [5, 6],\n",
       "       [7, 8]])"
      ]
     },
     "execution_count": 80,
     "metadata": {},
     "output_type": "execute_result"
    }
   ],
   "source": [
    "# now, concatinate along row (axis = 0)\n",
    "z2 = np.concatenate((x2, y2), axis = 0)\n",
    "z2"
   ]
  },
  {
   "cell_type": "code",
   "execution_count": 81,
   "id": "432992cd-2de8-4788-be5f-7c12006dc829",
   "metadata": {},
   "outputs": [
    {
     "data": {
      "text/plain": [
       "array([[1, 2, 5, 6],\n",
       "       [3, 4, 7, 8]])"
      ]
     },
     "execution_count": 81,
     "metadata": {},
     "output_type": "execute_result"
    }
   ],
   "source": [
    "# now, concatinate along column (axis = 1)\n",
    "z2 = np.concatenate((x2, y2), axis = 1)\n",
    "z2"
   ]
  },
  {
   "cell_type": "markdown",
   "id": "690eb41d-fd0e-4642-bbcb-8cf472ecc7b0",
   "metadata": {},
   "source": [
    "## Creating 3D array ( for a 3D array there should be 3 2D arrays)"
   ]
  },
  {
   "cell_type": "code",
   "execution_count": 82,
   "id": "6febcbdc-a756-4c4a-abeb-453ef4282501",
   "metadata": {},
   "outputs": [
    {
     "data": {
      "text/plain": [
       "array([[[0, 1, 2, 3],\n",
       "        [4, 5, 6, 7]],\n",
       "\n",
       "       [[0, 1, 2, 3],\n",
       "        [4, 5, 6, 7]],\n",
       "\n",
       "       [[0, 1, 2, 3],\n",
       "        [4, 5, 6, 7]]])"
      ]
     },
     "execution_count": 82,
     "metadata": {},
     "output_type": "execute_result"
    }
   ],
   "source": [
    "three_d_array = np.array([[[0, 1, 2, 3],\n",
    "                           [4, 5, 6, 7]],\n",
    "\n",
    "                          [[0, 1, 2, 3],\n",
    "                           [4, 5, 6, 7]],\n",
    "\n",
    "                          [[0 ,1 ,2, 3],\n",
    "                           [4, 5, 6, 7]]])\n",
    "three_d_array"
   ]
  },
  {
   "cell_type": "code",
   "execution_count": 83,
   "id": "762bf6ec-c710-4b93-8faf-3713704b73a0",
   "metadata": {},
   "outputs": [
    {
     "data": {
      "text/plain": [
       "3"
      ]
     },
     "execution_count": 83,
     "metadata": {},
     "output_type": "execute_result"
    }
   ],
   "source": [
    "three_d_array.ndim"
   ]
  },
  {
   "cell_type": "code",
   "execution_count": 92,
   "id": "3076791b-e439-4291-b82f-3cb04012a429",
   "metadata": {},
   "outputs": [
    {
     "data": {
      "text/plain": [
       "(3, 2, 4)"
      ]
     },
     "execution_count": 92,
     "metadata": {},
     "output_type": "execute_result"
    }
   ],
   "source": [
    "three_d_array.shape"
   ]
  },
  {
   "cell_type": "code",
   "execution_count": 84,
   "id": "052196ce-835c-466e-ba62-2fe5f5fc2118",
   "metadata": {},
   "outputs": [
    {
     "data": {
      "text/plain": [
       "3"
      ]
     },
     "execution_count": 84,
     "metadata": {},
     "output_type": "execute_result"
    }
   ],
   "source": [
    "len(three_d_array) # len(): This function returns the number of elements in an array or list"
   ]
  },
  {
   "cell_type": "code",
   "execution_count": 94,
   "id": "517e4caf-f212-4662-8046-471da6a3a272",
   "metadata": {},
   "outputs": [
    {
     "data": {
      "text/plain": [
       "24"
      ]
     },
     "execution_count": 94,
     "metadata": {},
     "output_type": "execute_result"
    }
   ],
   "source": [
    "three_d_array.size # .size: This function returns the total number of elements in the array"
   ]
  },
  {
   "cell_type": "markdown",
   "id": "fb874857-e5f1-48d1-af49-7df525d6dbb0",
   "metadata": {},
   "source": [
    "## Reshaping arrays"
   ]
  },
  {
   "cell_type": "code",
   "execution_count": 87,
   "id": "43ae265f-acf4-4b36-9560-5d01b61bf6aa",
   "metadata": {},
   "outputs": [
    {
     "data": {
      "text/plain": [
       "array([[[0, 1, 2, 3],\n",
       "        [4, 5, 6, 7]],\n",
       "\n",
       "       [[0, 1, 2, 3],\n",
       "        [4, 5, 6, 7]],\n",
       "\n",
       "       [[0, 1, 2, 3],\n",
       "        [4, 5, 6, 7]]])"
      ]
     },
     "execution_count": 87,
     "metadata": {},
     "output_type": "execute_result"
    }
   ],
   "source": [
    "three_d_array"
   ]
  },
  {
   "cell_type": "code",
   "execution_count": 90,
   "id": "c2afb3d5-f239-425c-bf6c-73e115edca10",
   "metadata": {},
   "outputs": [
    {
     "data": {
      "text/plain": [
       "array([[0, 1, 2],\n",
       "       [3, 4, 5],\n",
       "       [6, 7, 0],\n",
       "       [1, 2, 3],\n",
       "       [4, 5, 6],\n",
       "       [7, 0, 1],\n",
       "       [2, 3, 4],\n",
       "       [5, 6, 7]])"
      ]
     },
     "execution_count": 90,
     "metadata": {},
     "output_type": "execute_result"
    }
   ],
   "source": [
    "three_d_array.reshape(8, 3)"
   ]
  },
  {
   "cell_type": "code",
   "execution_count": 91,
   "id": "7247df53-e251-4f41-8088-c2c8de70d90d",
   "metadata": {},
   "outputs": [
    {
     "data": {
      "text/plain": [
       "array([[0, 1, 2, 3, 4, 5, 6, 7],\n",
       "       [0, 1, 2, 3, 4, 5, 6, 7],\n",
       "       [0, 1, 2, 3, 4, 5, 6, 7]])"
      ]
     },
     "execution_count": 91,
     "metadata": {},
     "output_type": "execute_result"
    }
   ],
   "source": [
    "three_d_array.reshape(3, 8)"
   ]
  },
  {
   "cell_type": "code",
   "execution_count": 93,
   "id": "7bcd8215-b1ac-41ec-ac16-9d4f78608234",
   "metadata": {},
   "outputs": [
    {
     "data": {
      "text/plain": [
       "array([[[0, 1, 2],\n",
       "        [3, 4, 5]],\n",
       "\n",
       "       [[6, 7, 0],\n",
       "        [1, 2, 3]],\n",
       "\n",
       "       [[4, 5, 6],\n",
       "        [7, 0, 1]],\n",
       "\n",
       "       [[2, 3, 4],\n",
       "        [5, 6, 7]]])"
      ]
     },
     "execution_count": 93,
     "metadata": {},
     "output_type": "execute_result"
    }
   ],
   "source": [
    "three_d_array.reshape(4, 2, 3)"
   ]
  },
  {
   "cell_type": "code",
   "execution_count": null,
   "id": "70ab56e2-5e23-4e34-aa45-570dbe65c01a",
   "metadata": {},
   "outputs": [],
   "source": []
  }
 ],
 "metadata": {
  "kernelspec": {
   "display_name": "Python 3 (ipykernel)",
   "language": "python",
   "name": "python3"
  },
  "language_info": {
   "codemirror_mode": {
    "name": "ipython",
    "version": 3
   },
   "file_extension": ".py",
   "mimetype": "text/x-python",
   "name": "python",
   "nbconvert_exporter": "python",
   "pygments_lexer": "ipython3",
   "version": "3.12.2"
  }
 },
 "nbformat": 4,
 "nbformat_minor": 5
}
